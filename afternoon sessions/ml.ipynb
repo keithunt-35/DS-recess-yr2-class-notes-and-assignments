{
 "cells": [
  {
   "cell_type": "code",
   "execution_count": 24,
   "id": "41fbd8aa",
   "metadata": {},
   "outputs": [
    {
     "data": {
      "application/vnd.microsoft.datawrangler.viewer.v0+json": {
       "columns": [
        {
         "name": "index",
         "rawType": "int64",
         "type": "integer"
        },
        {
         "name": "Customer ID",
         "rawType": "object",
         "type": "string"
        },
        {
         "name": "Gender",
         "rawType": "object",
         "type": "string"
        },
        {
         "name": "Senior Citizen",
         "rawType": "int64",
         "type": "integer"
        },
        {
         "name": "Partner",
         "rawType": "object",
         "type": "string"
        },
        {
         "name": "Dependents",
         "rawType": "object",
         "type": "string"
        },
        {
         "name": "tenure",
         "rawType": "int64",
         "type": "integer"
        },
        {
         "name": "Phone Service",
         "rawType": "object",
         "type": "string"
        },
        {
         "name": "Multiple Lines",
         "rawType": "object",
         "type": "string"
        },
        {
         "name": "Internet Service",
         "rawType": "object",
         "type": "string"
        },
        {
         "name": "Online Security",
         "rawType": "object",
         "type": "string"
        },
        {
         "name": "Online Backup",
         "rawType": "object",
         "type": "string"
        },
        {
         "name": "Device Protection",
         "rawType": "object",
         "type": "string"
        },
        {
         "name": "Tech Support",
         "rawType": "object",
         "type": "string"
        },
        {
         "name": "Streaming TV",
         "rawType": "object",
         "type": "string"
        },
        {
         "name": "Streaming Movies",
         "rawType": "object",
         "type": "string"
        },
        {
         "name": "Contract",
         "rawType": "object",
         "type": "string"
        },
        {
         "name": "Paperless Billing",
         "rawType": "object",
         "type": "string"
        },
        {
         "name": "Payment Method",
         "rawType": "object",
         "type": "string"
        },
        {
         "name": "Monthly Charges",
         "rawType": "float64",
         "type": "float"
        },
        {
         "name": "Total Charges",
         "rawType": "object",
         "type": "string"
        },
        {
         "name": "Churn",
         "rawType": "object",
         "type": "string"
        }
       ],
       "ref": "40e20dcc-9b14-4df5-83cf-1a79d215053d",
       "rows": [
        [
         "0",
         "7590-VHVEA",
         "Female",
         "0",
         "Yes",
         "No",
         "1",
         "No",
         "No phone service",
         "DSL",
         "No",
         "Yes",
         "No",
         "No",
         "No",
         "No",
         "Month-to-month",
         "Yes",
         "Electronic check",
         "29.85",
         "29.85",
         "No"
        ],
        [
         "1",
         "7590-VHVEG",
         "Female",
         "0",
         "Yes",
         "No",
         "1",
         "No",
         "No phone service",
         "DSL",
         "No",
         "Yes",
         "No",
         "No",
         "No",
         "No",
         "Month-to-month",
         "Yes",
         "Electronic check",
         "29.85",
         "29.85",
         "No"
        ],
        [
         "2",
         "5575-GNVDE",
         "Male",
         "0",
         "No",
         "No",
         "34",
         "Yes",
         "No",
         "DSL",
         "Yes",
         "No",
         "Yes",
         "No",
         "No",
         "No",
         "One year",
         "No",
         "Mailed check",
         "56.95",
         "1889.5",
         "No"
        ],
        [
         "3",
         "3668-QPYBK",
         "Male",
         "0",
         "No",
         "No",
         "2",
         "Yes",
         "No",
         "DSL",
         "Yes",
         "Yes",
         "No",
         "No",
         "No",
         "No",
         "Month-to-month",
         "Yes",
         "Mailed check",
         "53.85",
         "108.15",
         "Yes"
        ],
        [
         "4",
         "7795-CFOCW",
         "Male",
         "0",
         "No",
         "No",
         "45",
         "No",
         "No phone service",
         "DSL",
         "Yes",
         "No",
         "Yes",
         "Yes",
         "No",
         "No",
         "One year",
         "No",
         "Bank transfer (automatic)",
         "42.3",
         "1840.75",
         "No"
        ]
       ],
       "shape": {
        "columns": 21,
        "rows": 5
       }
      },
      "text/html": [
       "<div>\n",
       "<style scoped>\n",
       "    .dataframe tbody tr th:only-of-type {\n",
       "        vertical-align: middle;\n",
       "    }\n",
       "\n",
       "    .dataframe tbody tr th {\n",
       "        vertical-align: top;\n",
       "    }\n",
       "\n",
       "    .dataframe thead th {\n",
       "        text-align: right;\n",
       "    }\n",
       "</style>\n",
       "<table border=\"1\" class=\"dataframe\">\n",
       "  <thead>\n",
       "    <tr style=\"text-align: right;\">\n",
       "      <th></th>\n",
       "      <th>Customer ID</th>\n",
       "      <th>Gender</th>\n",
       "      <th>Senior Citizen</th>\n",
       "      <th>Partner</th>\n",
       "      <th>Dependents</th>\n",
       "      <th>tenure</th>\n",
       "      <th>Phone Service</th>\n",
       "      <th>Multiple Lines</th>\n",
       "      <th>Internet Service</th>\n",
       "      <th>Online Security</th>\n",
       "      <th>...</th>\n",
       "      <th>Device Protection</th>\n",
       "      <th>Tech Support</th>\n",
       "      <th>Streaming TV</th>\n",
       "      <th>Streaming Movies</th>\n",
       "      <th>Contract</th>\n",
       "      <th>Paperless Billing</th>\n",
       "      <th>Payment Method</th>\n",
       "      <th>Monthly Charges</th>\n",
       "      <th>Total Charges</th>\n",
       "      <th>Churn</th>\n",
       "    </tr>\n",
       "  </thead>\n",
       "  <tbody>\n",
       "    <tr>\n",
       "      <th>0</th>\n",
       "      <td>7590-VHVEA</td>\n",
       "      <td>Female</td>\n",
       "      <td>0</td>\n",
       "      <td>Yes</td>\n",
       "      <td>No</td>\n",
       "      <td>1</td>\n",
       "      <td>No</td>\n",
       "      <td>No phone service</td>\n",
       "      <td>DSL</td>\n",
       "      <td>No</td>\n",
       "      <td>...</td>\n",
       "      <td>No</td>\n",
       "      <td>No</td>\n",
       "      <td>No</td>\n",
       "      <td>No</td>\n",
       "      <td>Month-to-month</td>\n",
       "      <td>Yes</td>\n",
       "      <td>Electronic check</td>\n",
       "      <td>29.85</td>\n",
       "      <td>29.85</td>\n",
       "      <td>No</td>\n",
       "    </tr>\n",
       "    <tr>\n",
       "      <th>1</th>\n",
       "      <td>7590-VHVEG</td>\n",
       "      <td>Female</td>\n",
       "      <td>0</td>\n",
       "      <td>Yes</td>\n",
       "      <td>No</td>\n",
       "      <td>1</td>\n",
       "      <td>No</td>\n",
       "      <td>No phone service</td>\n",
       "      <td>DSL</td>\n",
       "      <td>No</td>\n",
       "      <td>...</td>\n",
       "      <td>No</td>\n",
       "      <td>No</td>\n",
       "      <td>No</td>\n",
       "      <td>No</td>\n",
       "      <td>Month-to-month</td>\n",
       "      <td>Yes</td>\n",
       "      <td>Electronic check</td>\n",
       "      <td>29.85</td>\n",
       "      <td>29.85</td>\n",
       "      <td>No</td>\n",
       "    </tr>\n",
       "    <tr>\n",
       "      <th>2</th>\n",
       "      <td>5575-GNVDE</td>\n",
       "      <td>Male</td>\n",
       "      <td>0</td>\n",
       "      <td>No</td>\n",
       "      <td>No</td>\n",
       "      <td>34</td>\n",
       "      <td>Yes</td>\n",
       "      <td>No</td>\n",
       "      <td>DSL</td>\n",
       "      <td>Yes</td>\n",
       "      <td>...</td>\n",
       "      <td>Yes</td>\n",
       "      <td>No</td>\n",
       "      <td>No</td>\n",
       "      <td>No</td>\n",
       "      <td>One year</td>\n",
       "      <td>No</td>\n",
       "      <td>Mailed check</td>\n",
       "      <td>56.95</td>\n",
       "      <td>1889.5</td>\n",
       "      <td>No</td>\n",
       "    </tr>\n",
       "    <tr>\n",
       "      <th>3</th>\n",
       "      <td>3668-QPYBK</td>\n",
       "      <td>Male</td>\n",
       "      <td>0</td>\n",
       "      <td>No</td>\n",
       "      <td>No</td>\n",
       "      <td>2</td>\n",
       "      <td>Yes</td>\n",
       "      <td>No</td>\n",
       "      <td>DSL</td>\n",
       "      <td>Yes</td>\n",
       "      <td>...</td>\n",
       "      <td>No</td>\n",
       "      <td>No</td>\n",
       "      <td>No</td>\n",
       "      <td>No</td>\n",
       "      <td>Month-to-month</td>\n",
       "      <td>Yes</td>\n",
       "      <td>Mailed check</td>\n",
       "      <td>53.85</td>\n",
       "      <td>108.15</td>\n",
       "      <td>Yes</td>\n",
       "    </tr>\n",
       "    <tr>\n",
       "      <th>4</th>\n",
       "      <td>7795-CFOCW</td>\n",
       "      <td>Male</td>\n",
       "      <td>0</td>\n",
       "      <td>No</td>\n",
       "      <td>No</td>\n",
       "      <td>45</td>\n",
       "      <td>No</td>\n",
       "      <td>No phone service</td>\n",
       "      <td>DSL</td>\n",
       "      <td>Yes</td>\n",
       "      <td>...</td>\n",
       "      <td>Yes</td>\n",
       "      <td>Yes</td>\n",
       "      <td>No</td>\n",
       "      <td>No</td>\n",
       "      <td>One year</td>\n",
       "      <td>No</td>\n",
       "      <td>Bank transfer (automatic)</td>\n",
       "      <td>42.30</td>\n",
       "      <td>1840.75</td>\n",
       "      <td>No</td>\n",
       "    </tr>\n",
       "  </tbody>\n",
       "</table>\n",
       "<p>5 rows × 21 columns</p>\n",
       "</div>"
      ],
      "text/plain": [
       "  Customer ID  Gender  Senior Citizen Partner Dependents  tenure  \\\n",
       "0  7590-VHVEA  Female               0     Yes         No       1   \n",
       "1  7590-VHVEG  Female               0     Yes         No       1   \n",
       "2  5575-GNVDE    Male               0      No         No      34   \n",
       "3  3668-QPYBK    Male               0      No         No       2   \n",
       "4  7795-CFOCW    Male               0      No         No      45   \n",
       "\n",
       "  Phone Service    Multiple Lines Internet Service Online Security  ...  \\\n",
       "0            No  No phone service              DSL              No  ...   \n",
       "1            No  No phone service              DSL              No  ...   \n",
       "2           Yes                No              DSL             Yes  ...   \n",
       "3           Yes                No              DSL             Yes  ...   \n",
       "4            No  No phone service              DSL             Yes  ...   \n",
       "\n",
       "  Device Protection Tech Support Streaming TV Streaming Movies  \\\n",
       "0                No           No           No               No   \n",
       "1                No           No           No               No   \n",
       "2               Yes           No           No               No   \n",
       "3                No           No           No               No   \n",
       "4               Yes          Yes           No               No   \n",
       "\n",
       "         Contract Paperless Billing             Payment Method  \\\n",
       "0  Month-to-month               Yes           Electronic check   \n",
       "1  Month-to-month               Yes           Electronic check   \n",
       "2        One year                No               Mailed check   \n",
       "3  Month-to-month               Yes               Mailed check   \n",
       "4        One year                No  Bank transfer (automatic)   \n",
       "\n",
       "  Monthly Charges  Total Charges Churn  \n",
       "0           29.85          29.85    No  \n",
       "1           29.85          29.85    No  \n",
       "2           56.95         1889.5    No  \n",
       "3           53.85         108.15   Yes  \n",
       "4           42.30        1840.75    No  \n",
       "\n",
       "[5 rows x 21 columns]"
      ]
     },
     "execution_count": 24,
     "metadata": {},
     "output_type": "execute_result"
    }
   ],
   "source": [
    "import numpy as np\n",
    "import pandas as pd\n",
    "import warnings\n",
    "warnings.filterwarnings('ignore')\n",
    "\n",
    "dataset = pd.read_csv('Churn.csv')\n",
    "dataset.head()"
   ]
  },
  {
   "cell_type": "code",
   "execution_count": 25,
   "id": "4e2e3918",
   "metadata": {},
   "outputs": [
    {
     "name": "stdout",
     "output_type": "stream",
     "text": [
      "Customer ID          0\n",
      "Gender               0\n",
      "Senior Citizen       0\n",
      "Partner              0\n",
      "Dependents           0\n",
      "tenure               0\n",
      "Phone Service        0\n",
      "Multiple Lines       0\n",
      "Internet Service     0\n",
      "Online Security      0\n",
      "Online Backup        0\n",
      "Device Protection    0\n",
      "Tech Support         0\n",
      "Streaming TV         0\n",
      "Streaming Movies     0\n",
      "Contract             0\n",
      "Paperless Billing    0\n",
      "Payment Method       0\n",
      "Monthly Charges      0\n",
      "Total Charges        0\n",
      "Churn                0\n",
      "dtype: int64\n",
      "<bound method NDFrame.describe of      Customer ID  Gender  Senior Citizen Partner Dependents  tenure  \\\n",
      "0     7590-VHVEA  Female               0     Yes         No       1   \n",
      "1     7590-VHVEG  Female               0     Yes         No       1   \n",
      "2     5575-GNVDE    Male               0      No         No      34   \n",
      "3     3668-QPYBK    Male               0      No         No       2   \n",
      "4     7795-CFOCW    Male               0      No         No      45   \n",
      "...          ...     ...             ...     ...        ...     ...   \n",
      "7039  6840-RESVB    Male               0     Yes        Yes      24   \n",
      "7040  2234-XADUH  Female               0     Yes        Yes      72   \n",
      "7041  4801-JZAZL  Female               0     Yes        Yes      11   \n",
      "7042  8361-LTMKD    Male               1     Yes         No       4   \n",
      "7043  3186-AJIEK    Male               0      No         No      66   \n",
      "\n",
      "     Phone Service    Multiple Lines Internet Service Online Security  ...  \\\n",
      "0               No  No phone service              DSL              No  ...   \n",
      "1               No  No phone service              DSL              No  ...   \n",
      "2              Yes                No              DSL             Yes  ...   \n",
      "3              Yes                No              DSL             Yes  ...   \n",
      "4               No  No phone service              DSL             Yes  ...   \n",
      "...            ...               ...              ...             ...  ...   \n",
      "7039           Yes               Yes              DSL             Yes  ...   \n",
      "7040           Yes               Yes      Fiber optic              No  ...   \n",
      "7041            No  No phone service              DSL             Yes  ...   \n",
      "7042           Yes               Yes      Fiber optic              No  ...   \n",
      "7043           Yes                No      Fiber optic             Yes  ...   \n",
      "\n",
      "     Device Protection Tech Support Streaming TV Streaming Movies  \\\n",
      "0                   No           No           No               No   \n",
      "1                   No           No           No               No   \n",
      "2                  Yes           No           No               No   \n",
      "3                   No           No           No               No   \n",
      "4                  Yes          Yes           No               No   \n",
      "...                ...          ...          ...              ...   \n",
      "7039               Yes          Yes          Yes              Yes   \n",
      "7040               Yes           No          Yes              Yes   \n",
      "7041                No           No           No               No   \n",
      "7042                No           No           No               No   \n",
      "7043               Yes          Yes          Yes              Yes   \n",
      "\n",
      "            Contract Paperless Billing             Payment Method  \\\n",
      "0     Month-to-month               Yes           Electronic check   \n",
      "1     Month-to-month               Yes           Electronic check   \n",
      "2           One year                No               Mailed check   \n",
      "3     Month-to-month               Yes               Mailed check   \n",
      "4           One year                No  Bank transfer (automatic)   \n",
      "...              ...               ...                        ...   \n",
      "7039        One year               Yes               Mailed check   \n",
      "7040        One year               Yes    Credit card (automatic)   \n",
      "7041  Month-to-month               Yes           Electronic check   \n",
      "7042  Month-to-month               Yes               Mailed check   \n",
      "7043        Two year               Yes  Bank transfer (automatic)   \n",
      "\n",
      "     Monthly Charges  Total Charges Churn  \n",
      "0              29.85          29.85    No  \n",
      "1              29.85          29.85    No  \n",
      "2              56.95         1889.5    No  \n",
      "3              53.85         108.15   Yes  \n",
      "4              42.30        1840.75    No  \n",
      "...              ...            ...   ...  \n",
      "7039           84.80         1990.5    No  \n",
      "7040          103.20         7362.9    No  \n",
      "7041           29.60         346.45    No  \n",
      "7042           74.40          306.6   Yes  \n",
      "7043          105.65         6844.5    No  \n",
      "\n",
      "[7044 rows x 21 columns]>\n"
     ]
    }
   ],
   "source": [
    "#missing values\n",
    "print(dataset.isnull().sum())\n",
    "print(dataset.describe)"
   ]
  },
  {
   "cell_type": "code",
   "execution_count": 26,
   "id": "ace2a303",
   "metadata": {},
   "outputs": [
    {
     "name": "stdout",
     "output_type": "stream",
     "text": [
      "Churn\n",
      "No     5175\n",
      "Yes    1869\n",
      "Name: count, dtype: int64\n"
     ]
    },
    {
     "data": {
      "image/png": "[encoded data removed]",
      "text/plain": [
       "<Figure size 640x480 with 1 Axes>"
      ]
     },
     "metadata": {},
     "output_type": "display_data"
    }
   ],
   "source": [
    "import seaborn as sns\n",
    "import matplotlib.pyplot as plt\n",
    "print(dataset['Churn'].value_counts())\n",
    "sns.countplot(x='Churn',data=dataset,palette='coolwarm')\n",
    "plt.title('churn Distribution')\n",
    "plt.xlabel('Churn (0=No,1 = Yes)')\n",
    "plt.ylabel('count')\n",
    "plt.show()"
   ]
  },
  {
   "cell_type": "code",
   "execution_count": 27,
   "id": "cfdf9c85",
   "metadata": {},
   "outputs": [
    {
     "data": {
      "application/vnd.microsoft.datawrangler.viewer.v0+json": {
       "columns": [
        {
         "name": "index",
         "rawType": "object",
         "type": "string"
        },
        {
         "name": "0",
         "rawType": "int64",
         "type": "integer"
        }
       ],
       "ref": "0bd27add-915f-4bc1-bacc-c026612331ae",
       "rows": [
        [
         "Customer ID",
         "0"
        ],
        [
         "Gender",
         "0"
        ],
        [
         "Senior Citizen",
         "0"
        ],
        [
         "Partner",
         "0"
        ],
        [
         "Dependents",
         "0"
        ],
        [
         "tenure",
         "0"
        ],
        [
         "Phone Service",
         "0"
        ],
        [
         "Multiple Lines",
         "0"
        ],
        [
         "Internet Service",
         "0"
        ],
        [
         "Online Security",
         "0"
        ],
        [
         "Online Backup",
         "0"
        ],
        [
         "Device Protection",
         "0"
        ],
        [
         "Tech Support",
         "0"
        ],
        [
         "Streaming TV",
         "0"
        ],
        [
         "Streaming Movies",
         "0"
        ],
        [
         "Contract",
         "0"
        ],
        [
         "Paperless Billing",
         "0"
        ],
        [
         "Payment Method",
         "0"
        ],
        [
         "Monthly Charges",
         "0"
        ],
        [
         "Total Charges",
         "0"
        ],
        [
         "Churn",
         "0"
        ]
       ],
       "shape": {
        "columns": 1,
        "rows": 21
       }
      },
      "text/plain": [
       "Customer ID          0\n",
       "Gender               0\n",
       "Senior Citizen       0\n",
       "Partner              0\n",
       "Dependents           0\n",
       "tenure               0\n",
       "Phone Service        0\n",
       "Multiple Lines       0\n",
       "Internet Service     0\n",
       "Online Security      0\n",
       "Online Backup        0\n",
       "Device Protection    0\n",
       "Tech Support         0\n",
       "Streaming TV         0\n",
       "Streaming Movies     0\n",
       "Contract             0\n",
       "Paperless Billing    0\n",
       "Payment Method       0\n",
       "Monthly Charges      0\n",
       "Total Charges        0\n",
       "Churn                0\n",
       "dtype: int64"
      ]
     },
     "execution_count": 27,
     "metadata": {},
     "output_type": "execute_result"
    }
   ],
   "source": [
    "dataset.isnull().sum()"
   ]
  },
  {
   "cell_type": "code",
   "execution_count": 28,
   "id": "750e90fc",
   "metadata": {},
   "outputs": [],
   "source": [
    "#handling missing and incorrect data\n",
    "\n",
    "\n",
    "dataset['Total Charges'] = pd.to_numeric(dataset['Total Charges'], errors='coerce')\n",
    "dataset['Total Charges'].fillna(dataset['Total Charges'].median(),inplace=True)"
   ]
  },
  {
   "cell_type": "code",
   "execution_count": 29,
   "id": "2f685871",
   "metadata": {},
   "outputs": [
    {
     "data": {
      "application/vnd.microsoft.datawrangler.viewer.v0+json": {
       "columns": [
        {
         "name": "index",
         "rawType": "object",
         "type": "string"
        },
        {
         "name": "0",
         "rawType": "int64",
         "type": "integer"
        }
       ],
       "ref": "83b395c6-76f4-4a9a-bdf0-5fc8e772c93d",
       "rows": [
        [
         "Customer ID",
         "0"
        ],
        [
         "Gender",
         "0"
        ],
        [
         "Senior Citizen",
         "0"
        ],
        [
         "Partner",
         "0"
        ],
        [
         "Dependents",
         "0"
        ],
        [
         "tenure",
         "0"
        ],
        [
         "Phone Service",
         "0"
        ],
        [
         "Multiple Lines",
         "0"
        ],
        [
         "Internet Service",
         "0"
        ],
        [
         "Online Security",
         "0"
        ],
        [
         "Online Backup",
         "0"
        ],
        [
         "Device Protection",
         "0"
        ],
        [
         "Tech Support",
         "0"
        ],
        [
         "Streaming TV",
         "0"
        ],
        [
         "Streaming Movies",
         "0"
        ],
        [
         "Contract",
         "0"
        ],
        [
         "Paperless Billing",
         "0"
        ],
        [
         "Payment Method",
         "0"
        ],
        [
         "Monthly Charges",
         "0"
        ],
        [
         "Total Charges",
         "0"
        ],
        [
         "Churn",
         "0"
        ]
       ],
       "shape": {
        "columns": 1,
        "rows": 21
       }
      },
      "text/plain": [
       "Customer ID          0\n",
       "Gender               0\n",
       "Senior Citizen       0\n",
       "Partner              0\n",
       "Dependents           0\n",
       "tenure               0\n",
       "Phone Service        0\n",
       "Multiple Lines       0\n",
       "Internet Service     0\n",
       "Online Security      0\n",
       "Online Backup        0\n",
       "Device Protection    0\n",
       "Tech Support         0\n",
       "Streaming TV         0\n",
       "Streaming Movies     0\n",
       "Contract             0\n",
       "Paperless Billing    0\n",
       "Payment Method       0\n",
       "Monthly Charges      0\n",
       "Total Charges        0\n",
       "Churn                0\n",
       "dtype: int64"
      ]
     },
     "execution_count": 29,
     "metadata": {},
     "output_type": "execute_result"
    }
   ],
   "source": [
    "dataset.isnull().sum()"
   ]
  },
  {
   "cell_type": "code",
   "execution_count": 30,
   "id": "8ce00801",
   "metadata": {},
   "outputs": [],
   "source": [
    "#handling categorical data\n",
    "from sklearn.preprocessing import LabelEncoder\n",
    "labelencoder = LabelEncoder()\n",
    "categorical_columns =['Gender', 'Partner','Dependents', 'Phone Service', 'Multiple Lines',\n",
    "                      'Internet Service', 'Online Security', 'Online Backup',\n",
    "                      'Device Protection','Paperless Billing','Churn', 'Tech Support',\n",
    "                      'Contract','Payment Method', 'Streaming TV','Streaming Movies'\n",
    "                    ]\n",
    "for column in categorical_columns:\n",
    "    dataset[column] = labelencoder.fit_transform(dataset[column])\n",
    "    "
   ]
  },
  {
   "cell_type": "code",
   "execution_count": 31,
   "id": "401364e6",
   "metadata": {},
   "outputs": [],
   "source": [
    "from sklearn.model_selection import train_test_split\n",
    "X = dataset.drop(['Churn', 'Customer ID'], axis=1)\n",
    "y = dataset['Churn']\n",
    "\n",
    "X_train, X_test, y_train, y_test = train_test_split(X, y, test_size=0.2, random_state=0)\n",
    "\n"
   ]
  },
  {
   "cell_type": "code",
   "execution_count": 34,
   "id": "34e4c3b2",
   "metadata": {},
   "outputs": [
    {
     "name": "stdout",
     "output_type": "stream",
     "text": [
      "[0 0 1 ... 1 0 0]\n"
     ]
    }
   ],
   "source": [
    "#feature scaling\n",
    "#model training\n",
    "#ensemble learning\n",
    "#random forest classifier\n",
    "from sklearn.ensemble import RandomForestClassifier\n",
    "#decision tree\n",
    "#clf stands for classifier\n",
    "\n",
    "#variable to store the random forest classifier\n",
    "clf = RandomForestClassifier(n_estimators=100, random_state=42)\n",
    "#random state is used to ensure reproducibility it makes sure that the results are the same every time you run the code\n",
    "#n_estimators is the number of trees in the forest\n",
    "\n",
    "#------PARAMETERS------\n",
    "#n_estimators: The number of trees in the forest. More trees can lead to better performance but also increases computation time.\n",
    "#max_depth: The maximum depth of the tree. Limiting the depth can help prevent overfitting.\n",
    "#min_samples_split: The minimum number of samples required to split an internal node. Higher values prevent overfitting.\n",
    "#min_samples_leaf: The minimum number of samples required to be at a leaf node. Higher values can smooth the model.\n",
    "#min_weight_fraction_leaf: The minimum weighted fraction of the sum total of weights (of all the input samples) required to be at a leaf node.\n",
    "#max_features: The number of features to consider when looking for the best split. Can be an integer, float, or string ('auto', 'sqrt', 'log2').\n",
    "#bootstrap: Whether bootstrap samples are used when building trees. If False, the whole dataset is used to build each tree.\n",
    "#oob_score: Whether to use out-of-bag samples to estimate the generalization accuracy.\n",
    "#n_jobs: The number of jobs to run in parallel. -1 means using all processors.\n",
    "#verbose: Controls the verbosity when fitting and predicting.\n",
    "#warm_start: When set to True, it allows you to add more trees to the existing forest without starting from scratch.\n",
    "#random_state: Controls the randomness of the estimator. Setting it ensures reproducibility of results.\n",
    "\n",
    "clf.fit(X_train, y_train)\n",
    "#predicting the test set results\n",
    "y_pred = clf.predict(X_test) \n",
    "print(y_pred)\n",
    "\n"
   ]
  },
  {
   "cell_type": "code",
   "execution_count": null,
   "id": "c147d08a",
   "metadata": {},
   "outputs": [
    {
     "name": "stdout",
     "output_type": "stream",
     "text": [
      "                 Predicted No Churn  Predicted Churn\n",
      "Actual No Churn                 922              103\n",
      "Actual Churn                    203              181\n"
     ]
    }
   ],
   "source": [
    "#to obtain the confusion matrix in a table format\n",
    "from sklearn.metrics import confusion_matrix\n",
    "confusion_matrix_result = confusion_matrix(y_test, y_pred)\n",
    "confusion_matrix_df = pd.DataFrame(confusion_matrix_result,\n",
    "                                    index=['Actual No Churn', 'Actual Churn'],\n",
    "                                    columns=['Predicted No Churn', 'Predicted Churn'])\n",
    "print(confusion_matrix_df)"
   ]
  },
  {
   "cell_type": "code",
   "execution_count": 36,
   "id": "d2ad2f76",
   "metadata": {},
   "outputs": [
    {
     "name": "stdout",
     "output_type": "stream",
     "text": [
      "Accuracy: 78.2825%\n"
     ]
    }
   ],
   "source": [
    "from sklearn.metrics import accuracy_score, classification_report, confusion_matrix\n",
    "#calculating the accuracy\n",
    "accuracy = accuracy_score(y_test, y_pred)\n",
    "\n",
    "print(f'Accuracy: {accuracy * 100:.4f}%')"
   ]
  },
  {
   "cell_type": "code",
   "execution_count": 1,
   "id": "5bd6b9a7",
   "metadata": {},
   "outputs": [
    {
     "name": "stdout",
     "output_type": "stream",
     "text": [
      "Name: Flask\n",
      "Version: 3.1.1\n",
      "Summary: A simple framework for building complex web applications.\n",
      "Home-page: \n",
      "Author: \n",
      "Author-email: \n",
      "License-Expression: BSD-3-Clause\n",
      "Location: /home/keithunt_35/Desktop/yr2 recess/LearnPython/.venv/lib/python3.12/site-packages\n",
      "Requires: blinker, click, itsdangerous, jinja2, markupsafe, werkzeug\n",
      "Required-by: \n",
      "Note: you may need to restart the kernel to use updated packages.\n"
     ]
    }
   ],
   "source": [
    "pip show flask\n"
   ]
  },
  {
   "cell_type": "code",
   "execution_count": null,
   "id": "48a8960f",
   "metadata": {},
   "outputs": [],
   "source": [
    "from flask import Flask\n",
    "app = Flask(__name__) #flask constructor\n",
    "\n",
    "#a decorator to tell Flask what URL is associated with the function\n",
    "@app.route('/')\n",
    "def home():\n",
    "    return \"Welcome to the Churn Prediction API!\"\n",
    "\n",
    "if __name__ == '__main__':\n",
    "    app.run(debug=True) #debug=True will reload the server automatically when you make changes to the code\n",
    "    \n",
    "    *"
   ]
  }
 ],
 "metadata": {
  "kernelspec": {
   "display_name": ".venv",
   "language": "python",
   "name": "python3"
  },
  "language_info": {
   "codemirror_mode": {
    "name": "ipython",
    "version": 3
   },
   "file_extension": ".py",
   "mimetype": "text/x-python",
   "name": "python",
   "nbconvert_exporter": "python",
   "pygments_lexer": "ipython3",
   "version": "3.12.3"
  }
 },
 "nbformat": 4,
 "nbformat_minor": 5
}
