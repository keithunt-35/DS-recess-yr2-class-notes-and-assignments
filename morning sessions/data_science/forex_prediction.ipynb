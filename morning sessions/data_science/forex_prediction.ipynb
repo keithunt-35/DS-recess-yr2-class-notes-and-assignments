{
 "cells": [
  {
   "cell_type": "code",
   "execution_count": null,
   "id": "51ac6ce7",
   "metadata": {},
   "outputs": [],
   "source": [
    "#FOREX PREDICTION DATA ANALYSIS\n",
    "#OBJECTIVES\n",
    "#1. Load the dataset\n",
    "#2. inspect the dataset for empty values, wrong data types, wrontly formatted data\n",
    "#3. Analyze the dataset for trends, seasonality, and other patterns\n",
    "#4. visualize the data to understand the trends and patterns\n",
    "#5. evaluate the performance of the model using appropriate metrics\n",
    "#6. identify patterns and correlations in Euro or USD for the exchange rates\n",
    "#7. predict the future exchange rates using machine learning models\n",
    "#8. save the model for future use"
   ]
  },
  {
   "cell_type": "code",
   "execution_count": null,
   "id": "c1f56617",
   "metadata": {},
   "outputs": [],
   "source": [
    "#import the necessary libraries\n",
    "#could first looka at the data to see what libraries are needed\n",
    "import pandas as pd\n",
    "import numpy as np\n",
    "import matplotlib.pyplot as plt\n",
    "import seaborn as sns\n",
    "from datetime import datetime"
   ]
  },
  {
   "cell_type": "code",
   "execution_count": null,
   "id": "ca73cb88",
   "metadata": {},
   "outputs": [],
   "source": [
    "#load the dataset\n",
    "df = pd.read_csv('forex_predictions_data.csv')\n",
    "\n"
   ]
  },
  {
   "cell_type": "code",
   "execution_count": 6,
   "id": "a823ce58",
   "metadata": {},
   "outputs": [
    {
     "name": "stdout",
     "output_type": "stream",
     "text": [
      "             Open        High         Low       Close  Predicted_Close  \\\n",
      "count  224.000000  220.000000  225.000000  212.000000       222.000000   \n",
      "mean     1.239946    1.753113    0.750030    1.245072         1.250415   \n",
      "std      0.148956    0.147816    0.150434    0.140594         0.156102   \n",
      "min      1.002530    1.505420    0.505680    1.002320         1.000120   \n",
      "25%      1.111860    1.638832    0.614320    1.122535         1.115280   \n",
      "50%      1.248105    1.763400    0.746310    1.235910         1.259605   \n",
      "75%      1.365100    1.877682    0.877570    1.368805         1.392158   \n",
      "max      1.493440    1.995250    0.999860    1.498440         1.499680   \n",
      "\n",
      "       Confidence  \n",
      "count  218.000000  \n",
      "mean     0.756468  \n",
      "std      0.135125  \n",
      "min      0.500000  \n",
      "25%      0.652500  \n",
      "50%      0.760000  \n",
      "75%      0.870000  \n",
      "max      1.000000  \n"
     ]
    }
   ],
   "source": [
    "#describe the dataset\n",
    "print(df.describe())"
   ]
  },
  {
   "cell_type": "code",
   "execution_count": 7,
   "id": "e5d1d6da",
   "metadata": {},
   "outputs": [
    {
     "name": "stdout",
     "output_type": "stream",
     "text": [
      "Shape of the dataset: (229, 10)\n"
     ]
    }
   ],
   "source": [
    "#get the shape of the dataset\n",
    "print(\"Shape of the dataset:\", df.shape)"
   ]
  },
  {
   "cell_type": "code",
   "execution_count": 8,
   "id": "05cdfec2",
   "metadata": {},
   "outputs": [
    {
     "name": "stdout",
     "output_type": "stream",
     "text": [
      "Checking for empty values:\n",
      "Date                3\n",
      "Open                5\n",
      "High                9\n",
      "Low                 4\n",
      "Close              17\n",
      "Volume              3\n",
      "Predicted_Close     7\n",
      "Currency_Pair       0\n",
      "Signal              2\n",
      "Confidence         11\n",
      "dtype: int64\n"
     ]
    }
   ],
   "source": [
    "#handling bad data: empty values, wrong data types, wrongly formatted data\n",
    "#check for empty values\n",
    "print(\"Checking for empty values:\")\n",
    "print(df.isnull().sum())"
   ]
  },
  {
   "cell_type": "code",
   "execution_count": 10,
   "id": "7b4ec694",
   "metadata": {},
   "outputs": [
    {
     "name": "stdout",
     "output_type": "stream",
     "text": [
      "Missing values in each column:\n",
      "Missing values after handling:\n",
      "Date               3\n",
      "Open               0\n",
      "High               0\n",
      "Low                0\n",
      "Close              0\n",
      "Volume             0\n",
      "Predicted_Close    0\n",
      "Currency_Pair      0\n",
      "Signal             0\n",
      "Confidence         0\n",
      "dtype: int64\n"
     ]
    }
   ],
   "source": [
    "#handle missing values\n",
    "print(\"Missing values in each column:\")\n",
    "#for numeric columns, fill with mean but not average\n",
    "\n",
    "numeric_cols = ['Open', 'High', 'Low', 'Close', 'Volume', 'Confidence','Predicted_Close']\n",
    "for col in numeric_cols:\n",
    "    if col in df.columns:\n",
    "        df[col] = pd.to_numeric(df[col], errors='coerce') #convert to numeric, coerce errors to NaN\n",
    "        # Fill NaN values with the mean of the column using the inplace parameter\n",
    "        df[col] = df[col].fillna(df[col].median())\n",
    "        \n",
    "        \n",
    "#for categorical columns, fill with mode\n",
    "categorical_cols = [ 'Signal']\n",
    "for col in categorical_cols:\n",
    "    if col in df.columns:\n",
    "        df[col] = df[col].fillna(df[col].mode()[0])  # Fill NaN values with the mode of the column\n",
    "#better usse mean median or mode\n",
    "\n",
    "#check for missing values again\n",
    "print(\"Missing values after handling:\")\n",
    "print(df.isnull().sum())\n"
   ]
  },
  {
   "cell_type": "code",
   "execution_count": null,
   "id": "6265a805",
   "metadata": {},
   "outputs": [],
   "source": [
    "# conveert non numeric columns to numeric\n",
    "#convert date column to datetime format"
   ]
  },
  {
   "cell_type": "code",
   "execution_count": null,
   "id": "5c4d3276",
   "metadata": {},
   "outputs": [
    {
     "name": "stdout",
     "output_type": "stream",
     "text": [
      "Checking the date column after conversion:\n",
      "0   2024-01-01\n",
      "1   2024-01-02\n",
      "2   2024-01-03\n",
      "3   2024-01-04\n",
      "4   2024-01-05\n",
      "Name: Date, dtype: datetime64[ns]\n"
     ]
    }
   ],
   "source": [
    "#data in wrong format\n",
    "#this is common for date\n",
    "df['Date'] = pd.to_datetime(df['Date'], errors='coerce')  # Convert to datetime, coerce errors to NaT\n",
    "#handle volume columnsa with error values\n",
    "#first convert to numeric\n",
    "df['Volume'] = pd.to_numeric(df['Volume'], errors='coerce')  # Convert to numeric, coerce errors to NaN\n",
    "#fill NaN values in Volume with median\n",
    "df['Volume'] = df['Volume'].fillna(df['Volume'].median())  # Fill NaN values with the median of the column\n",
    "#clean the confidence column\n",
    "df['Confidence'] = pd.to_numeric(df['Confidence'], errors='coerce')  # Convert to numeric, coerce errors to NaN\n",
    "#fill NaN values in Confidence with median\n",
    "df['Confidence'] = df['Confidence'].fillna(df['Confidence'].median())  # Fill NaN values with the median of the column\n",
    "\n",
    "\n",
    "#check the dates again\n",
    "print(\"Checking the date column after conversion:\")\n",
    "print(df['Date'].head())\n",
    "\n",
    "\n"
   ]
  },
  {
   "cell_type": "code",
   "execution_count": 13,
   "id": "8e3ef50e",
   "metadata": {},
   "outputs": [
    {
     "name": "stdout",
     "output_type": "stream",
     "text": [
      "Missing values after handling:\n",
      "Date               3\n",
      "Open               0\n",
      "High               0\n",
      "Low                0\n",
      "Close              0\n",
      "Volume             0\n",
      "Predicted_Close    0\n",
      "Currency_Pair      0\n",
      "Signal             0\n",
      "Confidence         0\n",
      "dtype: int64\n"
     ]
    }
   ],
   "source": [
    "\n",
    "#check for missing values again\n",
    "print(\"Missing values after handling:\")\n",
    "print(df.isnull().sum())"
   ]
  },
  {
   "cell_type": "code",
   "execution_count": 15,
   "id": "a76c67e8",
   "metadata": {},
   "outputs": [
    {
     "name": "stdout",
     "output_type": "stream",
     "text": [
      "Data types of the columns:\n",
      "Date               datetime64[ns]\n",
      "Open                      float64\n",
      "High                      float64\n",
      "Low                       float64\n",
      "Close                     float64\n",
      "Volume                    float64\n",
      "Predicted_Close           float64\n",
      "Currency_Pair              object\n",
      "Signal                     object\n",
      "Confidence                float64\n",
      "dtype: object\n"
     ]
    }
   ],
   "source": [
    "#wrong data types\n",
    "price_cols = ['Open', 'High', 'Low', 'Close', 'Volume', 'Confidence', 'Predicted_Close']\n",
    "for col in price_cols:\n",
    "    if col in df.columns:\n",
    "        #remove the extreme outliers( beyond 3 standard deviations)\n",
    "        mean = df[col].mean()\n",
    "        std_dev = df[col].std()\n",
    "        df[col] = df[col].apply(lambda x: x if (mean - 3 * std_dev < x < mean + 3 * std_dev) else np.nan)\n",
    "        # Fill NaN values with the median of the column\n",
    "        df[col] = df[col].fillna(df[col].median())\n",
    "#check the data types of the columns\n",
    "print(\"Data types of the columns:\")\n",
    "print(df.dtypes)\n"
   ]
  },
  {
   "cell_type": "code",
   "execution_count": null,
   "id": "ffd04119",
   "metadata": {},
   "outputs": [
    {
     "name": "stdout",
     "output_type": "stream",
     "text": [
      "number of duplicates in the dataset: 10\n"
     ]
    }
   ],
   "source": [
    "#duplicates\n",
    "#check for duplicates\n",
    "print(\"number of duplicates in the dataset:\", df.duplicated().sum())\n"
   ]
  },
  {
   "cell_type": "code",
   "execution_count": 17,
   "id": "29e3e158",
   "metadata": {},
   "outputs": [
    {
     "name": "stdout",
     "output_type": "stream",
     "text": [
      "Number of duplicates after removing: 0\n",
      "Checking for duplicate dates:\n",
      "Shape of the dataset after removing duplicates: (219, 10)\n"
     ]
    }
   ],
   "source": [
    "#removing the duplicates\n",
    "df = df.drop_duplicates()\n",
    "print(\"Number of duplicates after removing:\", df.duplicated().sum())\n",
    "\n",
    "#check for duplicate dates\n",
    "print(\"Checking for duplicate dates:\")\n",
    "duplicate_dates = df.drop_duplicates(subset='Date', keep='first')   \n",
    "\n",
    "#shape of the dataset after removing duplicates\n",
    "print(\"Shape of the dataset after removing duplicates:\", df.shape)"
   ]
  },
  {
   "cell_type": "code",
   "execution_count": 18,
   "id": "c34da751",
   "metadata": {},
   "outputs": [
    {
     "name": "stdout",
     "output_type": "stream",
     "text": [
      "Final cleaned dataset:\n",
      "<class 'pandas.core.frame.DataFrame'>\n",
      "Index: 219 entries, 0 to 218\n",
      "Data columns (total 10 columns):\n",
      " #   Column           Non-Null Count  Dtype         \n",
      "---  ------           --------------  -----         \n",
      " 0   Date             216 non-null    datetime64[ns]\n",
      " 1   Open             219 non-null    float64       \n",
      " 2   High             219 non-null    float64       \n",
      " 3   Low              219 non-null    float64       \n",
      " 4   Close            219 non-null    float64       \n",
      " 5   Volume           219 non-null    float64       \n",
      " 6   Predicted_Close  219 non-null    float64       \n",
      " 7   Currency_Pair    219 non-null    object        \n",
      " 8   Signal           219 non-null    object        \n",
      " 9   Confidence       219 non-null    float64       \n",
      "dtypes: datetime64[ns](1), float64(7), object(2)\n",
      "memory usage: 18.8+ KB\n",
      "Checking for empty values after cleaning:\n",
      "Date               3\n",
      "Open               0\n",
      "High               0\n",
      "Low                0\n",
      "Close              0\n",
      "Volume             0\n",
      "Predicted_Close    0\n",
      "Currency_Pair      0\n",
      "Signal             0\n",
      "Confidence         0\n",
      "dtype: int64\n"
     ]
    }
   ],
   "source": [
    "#final clean dataset\n",
    "print(\"Final cleaned dataset:\")\n",
    "df.info()\n",
    "#check for empty values again\n",
    "print(\"Checking for empty values after cleaning:\")\n",
    "print(df.isnull().sum())"
   ]
  },
  {
   "cell_type": "code",
   "execution_count": 20,
   "id": "a9880e04",
   "metadata": {},
   "outputs": [
    {
     "data": {
      "image/png": "[encoded data removed]",
      "text/plain": [
       "<Figure size 1000x800 with 2 Axes>"
      ]
     },
     "metadata": {},
     "output_type": "display_data"
    }
   ],
   "source": [
    "#analysis of the dataset\n",
    "#correlation analysis\n",
    "#calculate the correlation matrix\n",
    "corr_matirx = df[['Open', 'High', 'Low', 'Close', 'Volume', 'Confidence', 'Predicted_Close']].corr()\n",
    "\n",
    "#plot the correlation heatmap\n",
    "plt.figure(figsize=(10, 8))\n",
    "sns.heatmap(corr_matirx, annot=True, cmap='coolwarm', fmt='.2f', center=True)\n",
    "plt.title('Correlation Heatmap')\n",
    "plt.show()"
   ]
  },
  {
   "cell_type": "code",
   "execution_count": null,
   "id": "a297e3dc",
   "metadata": {},
   "outputs": [],
   "source": [
    "#"
   ]
  }
 ],
 "metadata": {
  "kernelspec": {
   "display_name": ".venv",
   "language": "python",
   "name": "python3"
  },
  "language_info": {
   "codemirror_mode": {
    "name": "ipython",
    "version": 3
   },
   "file_extension": ".py",
   "mimetype": "text/x-python",
   "name": "python",
   "nbconvert_exporter": "python",
   "pygments_lexer": "ipython3",
   "version": "3.12.3"
  }
 },
 "nbformat": 4,
 "nbformat_minor": 5
}
