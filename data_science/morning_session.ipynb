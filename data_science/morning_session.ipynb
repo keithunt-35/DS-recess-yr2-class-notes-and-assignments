{
 "cells": [
  {
   "cell_type": "code",
   "execution_count": 1,
   "id": "6930f5ed",
   "metadata": {},
   "outputs": [
    {
     "name": "stdout",
     "output_type": "stream",
     "text": [
      "hello world\n"
     ]
    }
   ],
   "source": [
    "print(\"hello world\")"
   ]
  },
  {
   "cell_type": "code",
   "execution_count": 6,
   "id": "65350310",
   "metadata": {},
   "outputs": [
    {
     "name": "stdout",
     "output_type": "stream",
     "text": [
      "Working with text files\n"
     ]
    }
   ],
   "source": [
    "# reading and writing files\n",
    "#opening a file\n",
    "file =open(\"keith.txt\",\"r\") #r for read, w for write, a for append\n",
    "#reading the entire content of the file\n",
    "content = file.read()\n",
    "#reading the first line of the file\n",
    "print(content)"
   ]
  },
  {
   "cell_type": "code",
   "execution_count": null,
   "id": "e8db1b49",
   "metadata": {},
   "outputs": [],
   "source": [
    "#writing to a file\n",
    "with open(\"osbert.txt\", \"w\") as file:\n",
    "    file.write(\"This is a new file created by Osbert first line.\\n\")\n",
    "    file.write(\"It contains some  other text written by Osbert.\\n\")"
   ]
  },
  {
   "cell_type": "code",
   "execution_count": 8,
   "id": "e8033c5d",
   "metadata": {},
   "outputs": [
    {
     "name": "stdout",
     "output_type": "stream",
     "text": [
      "Working with text files\n"
     ]
    }
   ],
   "source": [
    "#appending to a file\n",
    "with open(\"osbert.txt\", \"a\") as file:\n",
    "    file.write(\"This is a new line added by Osbert.\\n\")\n",
    "#reading the file again to see the changes\n",
    "with open(\"keith.txt\", \"r\") as file:\n",
    "    content = file.read()\n",
    "    print(content)"
   ]
  },
  {
   "cell_type": "code",
   "execution_count": null,
   "id": "e12294a4",
   "metadata": {},
   "outputs": [],
   "source": [
    "#"
   ]
  }
 ],
 "metadata": {
  "kernelspec": {
   "display_name": ".venv",
   "language": "python",
   "name": "python3"
  },
  "language_info": {
   "codemirror_mode": {
    "name": "ipython",
    "version": 3
   },
   "file_extension": ".py",
   "mimetype": "text/x-python",
   "name": "python",
   "nbconvert_exporter": "python",
   "pygments_lexer": "ipython3",
   "version": "3.12.3"
  }
 },
 "nbformat": 4,
 "nbformat_minor": 5
}
