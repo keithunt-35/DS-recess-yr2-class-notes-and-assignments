{
 "cells": [
  {
   "cell_type": "code",
   "execution_count": 2,
   "id": "86e438b5",
   "metadata": {},
   "outputs": [],
   "source": [
    "import tweepy\n",
    "import yaml"
   ]
  },
  {
   "cell_type": "code",
   "execution_count": 3,
   "id": "e0ec04ed",
   "metadata": {},
   "outputs": [],
   "source": [
    "#current version 2 method\n",
    "def twitConnection(creds):\n",
    "    #Define Keys\n",
    "    consumer_key = creds['twitter']['consumer_key']\n",
    "    consumer_secret = creds['twitter']['consumer_secret']\n",
    "\n",
    "    # Access:\n",
    "    access_token  = creds['twitter']['access_token']\n",
    "    access_secret = creds['twitter']['access_secret']\n",
    "    \n",
    "    client = tweepy.Client(\n",
    "        consumer_key = consumer_key, consumer_secret=consumer_secret,\n",
    "        access_token=access_token, access_token_secret=access_secret)\n",
    "     \n",
    "    return client\n",
    "\n",
    "#version 1 method\n",
    "def twitConnection_v1(creds):\n",
    "    #Define Keys\n",
    "    consumer_key = creds['twitter']['consumer_key']\n",
    "    consumer_secret = creds['twitter']['consumer_secret']\n",
    "\n",
    "    # Access:\n",
    "    access_token  = creds['twitter']['access_token']\n",
    "    access_secret = creds['twitter']['access_secret']\n",
    "    \n",
    "    auth = tweepy.OAuth1UserHandler(consumer_key, consumer_secret)\n",
    "    auth.set_access_token(access_token, access_secret)\n",
    "    \n",
    "    return tweepy.API(auth)"
   ]
  },
  {
   "cell_type": "code",
   "execution_count": 4,
   "id": "2e9e0647",
   "metadata": {},
   "outputs": [
    {
     "ename": "FileNotFoundError",
     "evalue": "[Errno 2] No such file or directory: 'social_credentials.yml'",
     "output_type": "error",
     "traceback": [
      "\u001b[31m---------------------------------------------------------------------------\u001b[39m",
      "\u001b[31mFileNotFoundError\u001b[39m                         Traceback (most recent call last)",
      "\u001b[36mCell\u001b[39m\u001b[36m \u001b[39m\u001b[32mIn[4]\u001b[39m\u001b[32m, line 2\u001b[39m\n\u001b[32m      1\u001b[39m \u001b[38;5;66;03m#load creds\u001b[39;00m\n\u001b[32m----> \u001b[39m\u001b[32m2\u001b[39m creds = yaml.load(\u001b[38;5;28;43mopen\u001b[39;49m\u001b[43m(\u001b[49m\u001b[33;43m'\u001b[39;49m\u001b[33;43msocial_credentials.yml\u001b[39;49m\u001b[33;43m'\u001b[39;49m\u001b[43m)\u001b[49m, Loader=yaml.FullLoader)\n",
      "\u001b[36mFile \u001b[39m\u001b[32m~/Desktop/yr2 recess/LearnPython/.venv/lib/python3.12/site-packages/IPython/core/interactiveshell.py:326\u001b[39m, in \u001b[36m_modified_open\u001b[39m\u001b[34m(file, *args, **kwargs)\u001b[39m\n\u001b[32m    319\u001b[39m \u001b[38;5;28;01mif\u001b[39;00m file \u001b[38;5;129;01min\u001b[39;00m {\u001b[32m0\u001b[39m, \u001b[32m1\u001b[39m, \u001b[32m2\u001b[39m}:\n\u001b[32m    320\u001b[39m     \u001b[38;5;28;01mraise\u001b[39;00m \u001b[38;5;167;01mValueError\u001b[39;00m(\n\u001b[32m    321\u001b[39m         \u001b[33mf\u001b[39m\u001b[33m\"\u001b[39m\u001b[33mIPython won\u001b[39m\u001b[33m'\u001b[39m\u001b[33mt let you open fd=\u001b[39m\u001b[38;5;132;01m{\u001b[39;00mfile\u001b[38;5;132;01m}\u001b[39;00m\u001b[33m by default \u001b[39m\u001b[33m\"\u001b[39m\n\u001b[32m    322\u001b[39m         \u001b[33m\"\u001b[39m\u001b[33mas it is likely to crash IPython. If you know what you are doing, \u001b[39m\u001b[33m\"\u001b[39m\n\u001b[32m    323\u001b[39m         \u001b[33m\"\u001b[39m\u001b[33myou can use builtins\u001b[39m\u001b[33m'\u001b[39m\u001b[33m open.\u001b[39m\u001b[33m\"\u001b[39m\n\u001b[32m    324\u001b[39m     )\n\u001b[32m--> \u001b[39m\u001b[32m326\u001b[39m \u001b[38;5;28;01mreturn\u001b[39;00m \u001b[43mio_open\u001b[49m\u001b[43m(\u001b[49m\u001b[43mfile\u001b[49m\u001b[43m,\u001b[49m\u001b[43m \u001b[49m\u001b[43m*\u001b[49m\u001b[43margs\u001b[49m\u001b[43m,\u001b[49m\u001b[43m \u001b[49m\u001b[43m*\u001b[49m\u001b[43m*\u001b[49m\u001b[43mkwargs\u001b[49m\u001b[43m)\u001b[49m\n",
      "\u001b[31mFileNotFoundError\u001b[39m: [Errno 2] No such file or directory: 'social_credentials.yml'"
     ]
    }
   ],
   "source": [
    "#load creds\n",
    "creds = yaml.load(open('social_credentials.yml'), Loader=yaml.FullLoader)"
   ]
  },
  {
   "cell_type": "code",
   "execution_count": 5,
   "id": "f479d778",
   "metadata": {},
   "outputs": [
    {
     "ename": "NameError",
     "evalue": "name 'creds' is not defined",
     "output_type": "error",
     "traceback": [
      "\u001b[31m---------------------------------------------------------------------------\u001b[39m",
      "\u001b[31mNameError\u001b[39m                                 Traceback (most recent call last)",
      "\u001b[36mCell\u001b[39m\u001b[36m \u001b[39m\u001b[32mIn[5]\u001b[39m\u001b[32m, line 1\u001b[39m\n\u001b[32m----> \u001b[39m\u001b[32m1\u001b[39m client = twitConnection(\u001b[43mcreds\u001b[49m)\n\u001b[32m      2\u001b[39m client_v1 = twitConnection_v1(creds)\n",
      "\u001b[31mNameError\u001b[39m: name 'creds' is not defined"
     ]
    }
   ],
   "source": [
    "client = twitConnection(creds)\n",
    "client_v1 = twitConnection_v1(creds)"
   ]
  },
  {
   "cell_type": "code",
   "execution_count": 6,
   "id": "fbd69cca",
   "metadata": {},
   "outputs": [
    {
     "ename": "NameError",
     "evalue": "name 'client' is not defined",
     "output_type": "error",
     "traceback": [
      "\u001b[31m---------------------------------------------------------------------------\u001b[39m",
      "\u001b[31mNameError\u001b[39m                                 Traceback (most recent call last)",
      "\u001b[36mCell\u001b[39m\u001b[36m \u001b[39m\u001b[32mIn[6]\u001b[39m\u001b[32m, line 3\u001b[39m\n\u001b[32m      1\u001b[39m \u001b[38;5;66;03m#post a msg\u001b[39;00m\n\u001b[32m      2\u001b[39m msg = \u001b[33m'\u001b[39m\u001b[33mThis is a function test for version 1 posting\u001b[39m\u001b[33m'\u001b[39m\n\u001b[32m----> \u001b[39m\u001b[32m3\u001b[39m response = \u001b[43mclient\u001b[49m.create_tweet(text = msg)\n",
      "\u001b[31mNameError\u001b[39m: name 'client' is not defined"
     ]
    }
   ],
   "source": [
    "#post a msg\n",
    "msg = 'This is a function test for version 1 posting'\n",
    "response = client.create_tweet(text = msg)"
   ]
  },
  {
   "cell_type": "code",
   "execution_count": 7,
   "id": "c86bd7f5",
   "metadata": {},
   "outputs": [],
   "source": [
    " #identify media\n",
    "myMedia = r'your_file_location'"
   ]
  },
  {
   "cell_type": "code",
   "execution_count": 8,
   "id": "788c7ea1",
   "metadata": {},
   "outputs": [
    {
     "ename": "NameError",
     "evalue": "name 'client_v1' is not defined",
     "output_type": "error",
     "traceback": [
      "\u001b[31m---------------------------------------------------------------------------\u001b[39m",
      "\u001b[31mNameError\u001b[39m                                 Traceback (most recent call last)",
      "\u001b[36mCell\u001b[39m\u001b[36m \u001b[39m\u001b[32mIn[8]\u001b[39m\u001b[32m, line 2\u001b[39m\n\u001b[32m      1\u001b[39m \u001b[38;5;66;03m#media preperation using version 1\u001b[39;00m\n\u001b[32m----> \u001b[39m\u001b[32m2\u001b[39m media = \u001b[43mclient_v1\u001b[49m.media_upload(filename=myMedia)\n\u001b[32m      3\u001b[39m media_id = media.media_id\n",
      "\u001b[31mNameError\u001b[39m: name 'client_v1' is not defined"
     ]
    }
   ],
   "source": [
    "#media preperation using version 1\n",
    "media = client_v1.media_upload(filename=myMedia)\n",
    "media_id = media.media_id"
   ]
  },
  {
   "cell_type": "code",
   "execution_count": 9,
   "id": "3d124ea3",
   "metadata": {},
   "outputs": [
    {
     "ename": "NameError",
     "evalue": "name 'client' is not defined",
     "output_type": "error",
     "traceback": [
      "\u001b[31m---------------------------------------------------------------------------\u001b[39m",
      "\u001b[31mNameError\u001b[39m                                 Traceback (most recent call last)",
      "\u001b[36mCell\u001b[39m\u001b[36m \u001b[39m\u001b[32mIn[9]\u001b[39m\u001b[32m, line 3\u001b[39m\n\u001b[32m      1\u001b[39m \u001b[38;5;66;03m#post using version 2\u001b[39;00m\n\u001b[32m      2\u001b[39m msg = \u001b[33m'\u001b[39m\u001b[33mThis is a function test for version 2 posting with photo\u001b[39m\u001b[33m'\u001b[39m\n\u001b[32m----> \u001b[39m\u001b[32m3\u001b[39m response = \u001b[43mclient\u001b[49m.create_tweet(text = msg, media_ids = [media_id])\n",
      "\u001b[31mNameError\u001b[39m: name 'client' is not defined"
     ]
    }
   ],
   "source": [
    "#post using version 2\n",
    "msg = 'This is a function test for version 2 posting with photo'\n",
    "response = client.create_tweet(text = msg, media_ids = [media_id])"
   ]
  },
  {
   "cell_type": "code",
   "execution_count": null,
   "id": "76b74799",
   "metadata": {},
   "outputs": [],
   "source": []
  }
 ],
 "metadata": {
  "kernelspec": {
   "display_name": ".venv",
   "language": "python",
   "name": "python3"
  },
  "language_info": {
   "codemirror_mode": {
    "name": "ipython",
    "version": 3
   },
   "file_extension": ".py",
   "mimetype": "text/x-python",
   "name": "python",
   "nbconvert_exporter": "python",
   "pygments_lexer": "ipython3",
   "version": "3.12.3"
  }
 },
 "nbformat": 4,
 "nbformat_minor": 5
}
